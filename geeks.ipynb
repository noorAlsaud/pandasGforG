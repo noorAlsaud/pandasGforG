{
 "cells": [
  {
   "cell_type": "code",
   "execution_count": 18,
   "id": "246cfc90-ef24-4a65-8d8e-fbf1c34d1520",
   "metadata": {},
   "outputs": [
    {
     "data": {
      "text/html": [
       "<div>\n",
       "<style scoped>\n",
       "    .dataframe tbody tr th:only-of-type {\n",
       "        vertical-align: middle;\n",
       "    }\n",
       "\n",
       "    .dataframe tbody tr th {\n",
       "        vertical-align: top;\n",
       "    }\n",
       "\n",
       "    .dataframe thead th {\n",
       "        text-align: right;\n",
       "    }\n",
       "</style>\n",
       "<table border=\"1\" class=\"dataframe\">\n",
       "  <thead>\n",
       "    <tr style=\"text-align: right;\">\n",
       "      <th></th>\n",
       "      <th>Name</th>\n",
       "      <th>Age</th>\n",
       "      <th>Salary</th>\n",
       "      <th>Designation</th>\n",
       "    </tr>\n",
       "  </thead>\n",
       "  <tbody>\n",
       "    <tr>\n",
       "      <th>0</th>\n",
       "      <td>arp</td>\n",
       "      <td>30</td>\n",
       "      <td>100000</td>\n",
       "      <td>Engineer</td>\n",
       "    </tr>\n",
       "    <tr>\n",
       "      <th>1</th>\n",
       "      <td>Man</td>\n",
       "      <td>35</td>\n",
       "      <td>93000</td>\n",
       "      <td>Artist</td>\n",
       "    </tr>\n",
       "    <tr>\n",
       "      <th>2</th>\n",
       "      <td>joy</td>\n",
       "      <td>37</td>\n",
       "      <td>88000</td>\n",
       "      <td>Painter</td>\n",
       "    </tr>\n",
       "    <tr>\n",
       "      <th>3</th>\n",
       "      <td>Roh</td>\n",
       "      <td>33</td>\n",
       "      <td>120000</td>\n",
       "      <td>Singer</td>\n",
       "    </tr>\n",
       "    <tr>\n",
       "      <th>4</th>\n",
       "      <td>Virt</td>\n",
       "      <td>34</td>\n",
       "      <td>94000</td>\n",
       "      <td>Designer</td>\n",
       "    </tr>\n",
       "    <tr>\n",
       "      <th>5</th>\n",
       "      <td>shery</td>\n",
       "      <td>30</td>\n",
       "      <td>95000</td>\n",
       "      <td>Dancer</td>\n",
       "    </tr>\n",
       "  </tbody>\n",
       "</table>\n",
       "</div>"
      ],
      "text/plain": [
       "    Name  Age  Salary Designation\n",
       "0    arp   30  100000    Engineer\n",
       "1    Man   35   93000      Artist\n",
       "2    joy   37   88000     Painter\n",
       "3    Roh   33  120000      Singer\n",
       "4   Virt   34   94000    Designer\n",
       "5  shery   30   95000      Dancer"
      ]
     },
     "execution_count": 18,
     "metadata": {},
     "output_type": "execute_result"
    }
   ],
   "source": [
    "import pandas as pd \n",
    "import numpy as np\n",
    "# assign data : disctionary \n",
    "data = {\n",
    "    \"Name\" : [\"arp\", \"Man\", \"joy\", \"Roh\", \"Virt\", \"shery\"],\n",
    "    \"Age\" : [30, 35, 37, 33, 34, 30],\n",
    "    \"Salary\" : [100000, 93000, 88000, 120000, 94000, 95000], \n",
    "    \"Designation\" : [\"Engineer\", \"Artist\", \"Painter\", \"Singer\", \"Designer\", \"Dancer\"]\n",
    "}\n",
    "\n",
    "df = pd.DataFrame(data)\n",
    "df\n",
    "\n",
    "\n"
   ]
  },
  {
   "cell_type": "code",
   "execution_count": 11,
   "id": "c348de17-3a29-4993-8b62-4ad9b905683e",
   "metadata": {},
   "outputs": [],
   "source": [
    "# Q1 : display name, age of employee where salary is less than mean salary ? #\n",
    "# 1. find mean() \n",
    "# 2. filter criteria : less than mean salary \n",
    "# 3. select required columns "
   ]
  },
  {
   "cell_type": "code",
   "execution_count": 12,
   "id": "9d1f3bba-fa7a-4542-94ba-0be8dce9ae04",
   "metadata": {},
   "outputs": [
    {
     "data": {
      "text/plain": [
       "np.float64(83333.33333333333)"
      ]
     },
     "execution_count": 12,
     "metadata": {},
     "output_type": "execute_result"
    }
   ],
   "source": [
    "df[\"Salary\"].mean()"
   ]
  },
  {
   "cell_type": "code",
   "execution_count": 19,
   "id": "588d26a1-ec2b-4585-8834-75af7e88b6b6",
   "metadata": {},
   "outputs": [
    {
     "data": {
      "text/plain": [
       "np.float64(98333.33333333333)"
      ]
     },
     "execution_count": 19,
     "metadata": {},
     "output_type": "execute_result"
    }
   ],
   "source": [
    "avg_salary = df[\"Salary\"].mean()\n",
    "avg_salary"
   ]
  },
  {
   "cell_type": "code",
   "execution_count": 20,
   "id": "2b069d10-19c8-4fe2-899e-3da304b964cb",
   "metadata": {},
   "outputs": [
    {
     "data": {
      "text/plain": [
       "0    False\n",
       "1     True\n",
       "2     True\n",
       "3    False\n",
       "4     True\n",
       "5     True\n",
       "Name: Salary, dtype: bool"
      ]
     },
     "execution_count": 20,
     "metadata": {},
     "output_type": "execute_result"
    }
   ],
   "source": [
    "df[\"Salary\"] < df[\"Salary\"].mean()"
   ]
  },
  {
   "cell_type": "code",
   "execution_count": 24,
   "id": "f4370925-e646-4eb3-9230-f3a002b84391",
   "metadata": {},
   "outputs": [
    {
     "data": {
      "text/html": [
       "<div>\n",
       "<style scoped>\n",
       "    .dataframe tbody tr th:only-of-type {\n",
       "        vertical-align: middle;\n",
       "    }\n",
       "\n",
       "    .dataframe tbody tr th {\n",
       "        vertical-align: top;\n",
       "    }\n",
       "\n",
       "    .dataframe thead th {\n",
       "        text-align: right;\n",
       "    }\n",
       "</style>\n",
       "<table border=\"1\" class=\"dataframe\">\n",
       "  <thead>\n",
       "    <tr style=\"text-align: right;\">\n",
       "      <th></th>\n",
       "      <th>Name</th>\n",
       "      <th>Age</th>\n",
       "    </tr>\n",
       "  </thead>\n",
       "  <tbody>\n",
       "    <tr>\n",
       "      <th>1</th>\n",
       "      <td>Man</td>\n",
       "      <td>35</td>\n",
       "    </tr>\n",
       "    <tr>\n",
       "      <th>2</th>\n",
       "      <td>joy</td>\n",
       "      <td>37</td>\n",
       "    </tr>\n",
       "    <tr>\n",
       "      <th>4</th>\n",
       "      <td>Virt</td>\n",
       "      <td>34</td>\n",
       "    </tr>\n",
       "    <tr>\n",
       "      <th>5</th>\n",
       "      <td>shery</td>\n",
       "      <td>30</td>\n",
       "    </tr>\n",
       "  </tbody>\n",
       "</table>\n",
       "</div>"
      ],
      "text/plain": [
       "    Name  Age\n",
       "1    Man   35\n",
       "2    joy   37\n",
       "4   Virt   34\n",
       "5  shery   30"
      ]
     },
     "execution_count": 24,
     "metadata": {},
     "output_type": "execute_result"
    }
   ],
   "source": [
    "df.loc[ df[\"Salary\"] < df[\"Salary\"].mean() , [\"Name\", \"Age\"]]"
   ]
  },
  {
   "cell_type": "code",
   "execution_count": 25,
   "id": "48d7ed7a-3b3a-40c6-b845-707cc956717f",
   "metadata": {},
   "outputs": [
    {
     "data": {
      "text/plain": [
       "Name               joy\n",
       "Age                 37\n",
       "Salary           88000\n",
       "Designation    Painter\n",
       "Name: 2, dtype: object"
      ]
     },
     "execution_count": 25,
     "metadata": {},
     "output_type": "execute_result"
    }
   ],
   "source": [
    "df.loc[2]"
   ]
  },
  {
   "cell_type": "code",
   "execution_count": 27,
   "id": "35bb3dc0-1895-49af-bd94-1260fe4763b8",
   "metadata": {},
   "outputs": [
    {
     "data": {
      "text/html": [
       "<div>\n",
       "<style scoped>\n",
       "    .dataframe tbody tr th:only-of-type {\n",
       "        vertical-align: middle;\n",
       "    }\n",
       "\n",
       "    .dataframe tbody tr th {\n",
       "        vertical-align: top;\n",
       "    }\n",
       "\n",
       "    .dataframe thead th {\n",
       "        text-align: right;\n",
       "    }\n",
       "</style>\n",
       "<table border=\"1\" class=\"dataframe\">\n",
       "  <thead>\n",
       "    <tr style=\"text-align: right;\">\n",
       "      <th></th>\n",
       "      <th>Name</th>\n",
       "      <th>Age</th>\n",
       "      <th>Salary</th>\n",
       "      <th>Designation</th>\n",
       "    </tr>\n",
       "  </thead>\n",
       "  <tbody>\n",
       "    <tr>\n",
       "      <th>0</th>\n",
       "      <td>arp</td>\n",
       "      <td>30</td>\n",
       "      <td>100000</td>\n",
       "      <td>Engineer</td>\n",
       "    </tr>\n",
       "    <tr>\n",
       "      <th>1</th>\n",
       "      <td>Man</td>\n",
       "      <td>35</td>\n",
       "      <td>93000</td>\n",
       "      <td>Artist</td>\n",
       "    </tr>\n",
       "  </tbody>\n",
       "</table>\n",
       "</div>"
      ],
      "text/plain": [
       "  Name  Age  Salary Designation\n",
       "0  arp   30  100000    Engineer\n",
       "1  Man   35   93000      Artist"
      ]
     },
     "execution_count": 27,
     "metadata": {},
     "output_type": "execute_result"
    }
   ],
   "source": [
    "df.loc[[0,1]] # prints the first + second employee in the df "
   ]
  },
  {
   "cell_type": "code",
   "execution_count": 28,
   "id": "8d05137b-5703-4c6c-9e5c-255edac29d41",
   "metadata": {},
   "outputs": [],
   "source": [
    "# Q2 : display name, age where salary is > 100000 & age is less than 32 : \n"
   ]
  },
  {
   "cell_type": "code",
   "execution_count": 33,
   "id": "58a9be19-7b9a-4b35-a9ef-5980e2686375",
   "metadata": {},
   "outputs": [
    {
     "data": {
      "text/html": [
       "<div>\n",
       "<style scoped>\n",
       "    .dataframe tbody tr th:only-of-type {\n",
       "        vertical-align: middle;\n",
       "    }\n",
       "\n",
       "    .dataframe tbody tr th {\n",
       "        vertical-align: top;\n",
       "    }\n",
       "\n",
       "    .dataframe thead th {\n",
       "        text-align: right;\n",
       "    }\n",
       "</style>\n",
       "<table border=\"1\" class=\"dataframe\">\n",
       "  <thead>\n",
       "    <tr style=\"text-align: right;\">\n",
       "      <th></th>\n",
       "      <th>Name</th>\n",
       "      <th>Age</th>\n",
       "    </tr>\n",
       "  </thead>\n",
       "  <tbody>\n",
       "    <tr>\n",
       "      <th>0</th>\n",
       "      <td>arp</td>\n",
       "      <td>30</td>\n",
       "    </tr>\n",
       "  </tbody>\n",
       "</table>\n",
       "</div>"
      ],
      "text/plain": [
       "  Name  Age\n",
       "0  arp   30"
      ]
     },
     "execution_count": 33,
     "metadata": {},
     "output_type": "execute_result"
    }
   ],
   "source": [
    "df.loc[ (df[\"Salary\"] >= 100000) & (df[\"Age\"] < 32) , [\"Name\", \"Age\"]] # TWO filter conditions : "
   ]
  },
  {
   "cell_type": "code",
   "execution_count": 34,
   "id": "0f1d61e8-5452-4087-a181-75918dc17951",
   "metadata": {},
   "outputs": [],
   "source": [
    "# Q3 : add new column (salary_after5) and multiply salary by factor of 1.5\n",
    "\n"
   ]
  },
  {
   "cell_type": "code",
   "execution_count": 35,
   "id": "561d5c56-82ba-480c-b5be-f0984e940099",
   "metadata": {},
   "outputs": [],
   "source": [
    "df[\"Salary_after5\"] = df[\"Salary\"] * 1.5"
   ]
  },
  {
   "cell_type": "code",
   "execution_count": null,
   "id": "70048b13-d606-4d71-921e-6a49ceeac151",
   "metadata": {},
   "outputs": [],
   "source": [
    "df\n"
   ]
  },
  {
   "cell_type": "code",
   "execution_count": null,
   "id": "ee536757-7e3d-4b2f-bc55-aa15142252c2",
   "metadata": {},
   "outputs": [],
   "source": [
    "# OR : df[\"Salary_after5\"] = df.appy(lambda x:x[\"Salary\"] * 1.5, axis=1)"
   ]
  }
 ],
 "metadata": {
  "kernelspec": {
   "display_name": "Python 3 (ipykernel)",
   "language": "python",
   "name": "python3"
  },
  "language_info": {
   "codemirror_mode": {
    "name": "ipython",
    "version": 3
   },
   "file_extension": ".py",
   "mimetype": "text/x-python",
   "name": "python",
   "nbconvert_exporter": "python",
   "pygments_lexer": "ipython3",
   "version": "3.12.6"
  }
 },
 "nbformat": 4,
 "nbformat_minor": 5
}
